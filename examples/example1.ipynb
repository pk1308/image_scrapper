{
 "cells": [
  {
   "cell_type": "code",
   "execution_count": 5,
   "metadata": {},
   "outputs": [],
   "source": [
    "!pip3 install chromedriver-py==106.0.5249.61 Pillow -q"
   ]
  },
  {
   "cell_type": "code",
   "execution_count": 1,
   "metadata": {},
   "outputs": [],
   "source": [
    "!pip3 install image-scrapper-pk1308 -q"
   ]
  },
  {
   "cell_type": "code",
   "execution_count": 6,
   "metadata": {},
   "outputs": [],
   "source": [
    "from imagescrapper import google_scrapper"
   ]
  },
  {
   "cell_type": "code",
   "execution_count": 7,
   "metadata": {},
   "outputs": [
    {
     "name": "stderr",
     "output_type": "stream",
     "text": [
      "[2022-10-20 15:25:24,159: INFO: __init__] searching for dog images in google and downloading 10 images to scrapped_images\n",
      "[2022-10-20 15:25:24,169: INFO: runner] linux\n",
      "[2022-10-20 15:25:30,102: INFO: runner] Found: 100 search results. Extracting links from 0:100\n",
      "[2022-10-20 15:25:32,675: INFO: runner] Found: 100 search results. Extracting links from 1:100\n",
      "[2022-10-20 15:25:32,753: INFO: runner] extracted 1 image urls\n",
      "[2022-10-20 15:25:35,194: INFO: runner] Found: 100 search results. Extracting links from 2:100\n",
      "[2022-10-20 15:25:35,277: INFO: runner] extracted 2 image urls\n",
      "[2022-10-20 15:25:37,728: INFO: runner] Found: 100 search results. Extracting links from 3:100\n",
      "[2022-10-20 15:25:37,810: INFO: runner] extracted 3 image urls\n",
      "[2022-10-20 15:25:40,259: INFO: runner] Found: 100 search results. Extracting links from 4:100\n",
      "[2022-10-20 15:25:40,334: INFO: runner] extracted 4 image urls\n",
      "[2022-10-20 15:25:42,787: INFO: runner] Found: 100 search results. Extracting links from 5:100\n",
      "[2022-10-20 15:25:42,874: INFO: runner] extracted 5 image urls\n",
      "[2022-10-20 15:25:45,326: INFO: runner] Found: 100 search results. Extracting links from 6:100\n",
      "[2022-10-20 15:25:45,413: INFO: runner] extracted 6 image urls\n",
      "[2022-10-20 15:25:47,861: INFO: runner] Found: 100 search results. Extracting links from 7:100\n",
      "[2022-10-20 15:25:47,940: INFO: runner] extracted 7 image urls\n",
      "[2022-10-20 15:25:50,385: INFO: runner] Found: 100 search results. Extracting links from 8:100\n",
      "[2022-10-20 15:25:50,465: INFO: runner] extracted 8 image urls\n",
      "[2022-10-20 15:25:52,931: INFO: runner] Found: 100 search results. Extracting links from 9:100\n",
      "[2022-10-20 15:25:53,015: INFO: runner] extracted 9 image urls\n",
      "[2022-10-20 15:25:55,463: INFO: runner] Found: 100 search results. Extracting links from 10:100\n",
      "[2022-10-20 15:25:55,548: INFO: runner] extracted 10 image urls\n",
      "[2022-10-20 15:25:55,552: INFO: runner] Found: 100 search results. Extracting links from 10:100\n",
      "[2022-10-20 15:25:55,642: INFO: runner] Found: 10 image links from serach term dog\n"
     ]
    },
    {
     "name": "stdout",
     "output_type": "stream",
     "text": [
      "Found: 10 image links, done!\n"
     ]
    },
    {
     "name": "stderr",
     "output_type": "stream",
     "text": [
      "[2022-10-20 15:25:58,016: INFO: runner] Downloaded 0 images\n",
      "[2022-10-20 15:25:58,585: INFO: runner] Downloaded 1 images\n",
      "[2022-10-20 15:25:59,323: INFO: runner] Downloaded 2 images\n",
      "[2022-10-20 15:26:00,062: INFO: runner] Downloaded 3 images\n",
      "[2022-10-20 15:26:00,543: INFO: runner] Downloaded 4 images\n",
      "[2022-10-20 15:26:00,589: ERROR: runner] HTTP Error 403: Forbidden\n",
      "[2022-10-20 15:26:01,041: INFO: runner] Downloaded 6 images\n",
      "[2022-10-20 15:26:01,705: INFO: runner] Downloaded 7 images\n",
      "[2022-10-20 15:26:02,428: INFO: runner] Downloaded 8 images\n",
      "[2022-10-20 15:26:02,515: ERROR: runner] HTTP Error 403: Forbidden\n",
      "[2022-10-20 15:26:02,522: INFO: runner] Downloaded 8 images\n",
      "[2022-10-20 15:26:02,526: INFO: __init__] Downloaded 8 images from search term dog to scrapped_images\n"
     ]
    }
   ],
   "source": [
    "\n",
    "image_scrapper = google_scrapper(folder_path=\"scrapped_images\", search_term=\"dog\", number_images=10)\n"
   ]
  },
  {
   "cell_type": "code",
   "execution_count": null,
   "metadata": {},
   "outputs": [],
   "source": []
  }
 ],
 "metadata": {
  "kernelspec": {
   "display_name": "Python 3.9.12 ('base')",
   "language": "python",
   "name": "python3"
  },
  "language_info": {
   "codemirror_mode": {
    "name": "ipython",
    "version": 3
   },
   "file_extension": ".py",
   "mimetype": "text/x-python",
   "name": "python",
   "nbconvert_exporter": "python",
   "pygments_lexer": "ipython3",
   "version": "3.9.12"
  },
  "orig_nbformat": 4,
  "vscode": {
   "interpreter": {
    "hash": "7180cc0f4d45fc201842515dd365a4079220f7e34a164e82049965fcfda98274"
   }
  }
 },
 "nbformat": 4,
 "nbformat_minor": 2
}
