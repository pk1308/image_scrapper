{
 "cells": [
  {
   "cell_type": "code",
   "execution_count": 1,
   "metadata": {},
   "outputs": [],
   "source": [
    "from imagescrapper import google_scrapper"
   ]
  },
  {
   "cell_type": "code",
   "execution_count": 2,
   "metadata": {},
   "outputs": [
    {
     "name": "stdout",
     "output_type": "stream",
     "text": [
      "Found: 10 image links, done!\n"
     ]
    },
    {
     "name": "stderr",
     "output_type": "stream",
     "text": [
      "ERROR:root:HTTP Error 403: Forbidden\n",
      "ERROR:root:HTTP Error 403: Forbidden\n",
      "ERROR:root:HTTP Error 403: Forbidden\n"
     ]
    }
   ],
   "source": [
    "\n",
    "image_scrapper = google_scrapper(folder_path=\"scrapped_images\", search_term=\"kitten\", number_images=10)\n"
   ]
  }
 ],
 "metadata": {
  "kernelspec": {
   "display_name": "Python 3.8.0 ('image_scrapper')",
   "language": "python",
   "name": "python3"
  },
  "language_info": {
   "codemirror_mode": {
    "name": "ipython",
    "version": 3
   },
   "file_extension": ".py",
   "mimetype": "text/x-python",
   "name": "python",
   "nbconvert_exporter": "python",
   "pygments_lexer": "ipython3",
   "version": "3.8.0"
  },
  "orig_nbformat": 4,
  "vscode": {
   "interpreter": {
    "hash": "2006ebaf4c5cf931204e470aadd7f3039403939c8cb01fc5a02fb851550f6fbb"
   }
  }
 },
 "nbformat": 4,
 "nbformat_minor": 2
}
