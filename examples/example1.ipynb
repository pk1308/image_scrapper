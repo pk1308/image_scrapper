{
 "cells": [
  {
   "cell_type": "code",
   "execution_count": 1,
   "metadata": {},
   "outputs": [
    {
     "name": "stderr",
     "output_type": "stream",
     "text": [
      "[2022-10-20 00:03:41,888: INFO: logger] ====== WebDriver manager ======\n",
      "[2022-10-20 00:03:41,994: INFO: logger] Get LATEST chromedriver version for google-chrome 106.0.5249\n",
      "[2022-10-20 00:03:42,450: INFO: logger] About to download new driver from https://chromedriver.storage.googleapis.com/106.0.5249.61/chromedriver_linux64.zip\n",
      "[WDM] - Downloading: 100%|██████████| 6.35M/6.35M [00:00<00:00, 11.5MB/s]\n",
      "[2022-10-20 00:03:43,892: INFO: logger] Driver has been saved in cache [/home/pk/.wdm/drivers/chromedriver/linux64/106.0.5249]\n"
     ]
    }
   ],
   "source": [
    "from imagescrapper import google_scrapper\n"
   ]
  },
  {
   "cell_type": "code",
   "execution_count": 2,
   "metadata": {},
   "outputs": [
    {
     "ename": "EnsureError",
     "evalue": "Argument folder_path of type <class 'int'> to <function google_scrapper at 0x7fe4a050bee0> does not match annotation type <class 'str'>",
     "output_type": "error",
     "traceback": [
      "\u001b[0;31m---------------------------------------------------------------------------\u001b[0m",
      "\u001b[0;31mEnsureError\u001b[0m                               Traceback (most recent call last)",
      "Cell \u001b[0;32mIn [2], line 1\u001b[0m\n\u001b[0;32m----> 1\u001b[0m image_scrapper \u001b[39m=\u001b[39m google_scrapper(folder_path\u001b[39m=\u001b[39;49m\u001b[39m1\u001b[39;49m, search_term\u001b[39m=\u001b[39;49m\u001b[39m\"\u001b[39;49m\u001b[39mkitten\u001b[39;49m\u001b[39m\"\u001b[39;49m, number_images\u001b[39m=\u001b[39;49m\u001b[39m10\u001b[39;49m)\n",
      "File \u001b[0;32m~/miniconda3/envs/image_scrapper/lib/python3.8/site-packages/ensure/main.py:803\u001b[0m, in \u001b[0;36mWrappedFunction.__call__\u001b[0;34m(self, *args, **kwargs)\u001b[0m\n\u001b[1;32m    798\u001b[0m     \u001b[39mif\u001b[39;00m \u001b[39mnot\u001b[39;00m \u001b[39misinstance\u001b[39m(value, templ):\n\u001b[1;32m    799\u001b[0m         msg \u001b[39m=\u001b[39m (\n\u001b[1;32m    800\u001b[0m             \u001b[39m\"\u001b[39m\u001b[39mArgument \u001b[39m\u001b[39m{arg}\u001b[39;00m\u001b[39m of type \u001b[39m\u001b[39m{valt}\u001b[39;00m\u001b[39m to \u001b[39m\u001b[39m{f}\u001b[39;00m\u001b[39m \u001b[39m\u001b[39m\"\u001b[39m\n\u001b[1;32m    801\u001b[0m             \u001b[39m\"\u001b[39m\u001b[39mdoes not match annotation type \u001b[39m\u001b[39m{t}\u001b[39;00m\u001b[39m\"\u001b[39m\n\u001b[1;32m    802\u001b[0m         )\n\u001b[0;32m--> 803\u001b[0m         \u001b[39mraise\u001b[39;00m EnsureError(msg\u001b[39m.\u001b[39mformat(\n\u001b[1;32m    804\u001b[0m             arg\u001b[39m=\u001b[39marg, f\u001b[39m=\u001b[39m\u001b[39mself\u001b[39m\u001b[39m.\u001b[39mf, t\u001b[39m=\u001b[39mtempl, valt\u001b[39m=\u001b[39m\u001b[39mtype\u001b[39m(value)\n\u001b[1;32m    805\u001b[0m         ))\n\u001b[1;32m    807\u001b[0m \u001b[39mreturn\u001b[39;00m \u001b[39mself\u001b[39m\u001b[39m.\u001b[39mf(\u001b[39m*\u001b[39margs, \u001b[39m*\u001b[39m\u001b[39m*\u001b[39mkwargs)\n",
      "\u001b[0;31mEnsureError\u001b[0m: Argument folder_path of type <class 'int'> to <function google_scrapper at 0x7fe4a050bee0> does not match annotation type <class 'str'>"
     ]
    }
   ],
   "source": [
    "\n",
    "image_scrapper = google_scrapper(folder_path=1, search_term=\"kitten\", number_images=10)\n"
   ]
  },
  {
   "cell_type": "code",
   "execution_count": 3,
   "metadata": {},
   "outputs": [],
   "source": [
    "from imagescrapper.runner import imagescrapper"
   ]
  },
  {
   "cell_type": "code",
   "execution_count": 4,
   "metadata": {},
   "outputs": [
    {
     "name": "stderr",
     "output_type": "stream",
     "text": [
      "[2022-10-20 00:31:00,692: INFO: logger] ====== WebDriver manager ======\n",
      "[2022-10-20 00:31:00,836: INFO: logger] Get LATEST chromedriver version for google-chrome 106.0.5249\n",
      "[2022-10-20 00:31:01,340: INFO: logger] Driver [/home/pk/.wdm/drivers/chromedriver/linux64/106.0.5249/chromedriver] found in cache\n",
      "[2022-10-20 00:31:02,245: INFO: runner] mongodb connected\n"
     ]
    }
   ],
   "source": [
    "scrapper = imagescrapper()"
   ]
  },
  {
   "cell_type": "code",
   "execution_count": 5,
   "metadata": {},
   "outputs": [],
   "source": [
    "scrapper.driver.get(\"https://www.google.com\")"
   ]
  },
  {
   "cell_type": "code",
   "execution_count": 6,
   "metadata": {},
   "outputs": [
    {
     "data": {
      "text/plain": [
       "'Google'"
      ]
     },
     "execution_count": 6,
     "metadata": {},
     "output_type": "execute_result"
    }
   ],
   "source": [
    "scrapper.driver.title"
   ]
  },
  {
   "cell_type": "code",
   "execution_count": null,
   "metadata": {},
   "outputs": [],
   "source": []
  }
 ],
 "metadata": {
  "kernelspec": {
   "display_name": "Python 3.8.0 ('image_scrapper')",
   "language": "python",
   "name": "python3"
  },
  "language_info": {
   "codemirror_mode": {
    "name": "ipython",
    "version": 3
   },
   "file_extension": ".py",
   "mimetype": "text/x-python",
   "name": "python",
   "nbconvert_exporter": "python",
   "pygments_lexer": "ipython3",
   "version": "3.8.0"
  },
  "orig_nbformat": 4,
  "vscode": {
   "interpreter": {
    "hash": "2006ebaf4c5cf931204e470aadd7f3039403939c8cb01fc5a02fb851550f6fbb"
   }
  }
 },
 "nbformat": 4,
 "nbformat_minor": 2
}
