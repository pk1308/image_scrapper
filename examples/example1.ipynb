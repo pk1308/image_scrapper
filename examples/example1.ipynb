{
 "cells": [
  {
   "cell_type": "code",
   "execution_count": 1,
   "metadata": {},
   "outputs": [],
   "source": [
    "!pip3 install image-scrapper-pk1308 -q"
   ]
  },
  {
   "cell_type": "code",
   "execution_count": 2,
   "metadata": {},
   "outputs": [],
   "source": [
    "from imagescrapper import google_scrapper"
   ]
  },
  {
   "cell_type": "code",
   "execution_count": null,
   "metadata": {},
   "outputs": [],
   "source": [
    "\n",
    "image_scrapper = google_scrapper(folder_path=\"scrapped_images\", search_term=\"COCO COLA\", number_images=10)\n"
   ]
  },
  {
   "cell_type": "markdown",
   "metadata": {},
   "source": [
    "## Expected error sample \n",
    "\n",
    "![image info](./assets/error_driver.png \"sample\") ."
   ]
  },
  {
   "cell_type": "markdown",
   "metadata": {},
   "source": [
    "### solution "
   ]
  },
  {
   "cell_type": "code",
   "execution_count": 4,
   "metadata": {},
   "outputs": [],
   "source": [
    "!pip3 install chromedriver-py==106.0.5249.61 -q"
   ]
  },
  {
   "cell_type": "code",
   "execution_count": 5,
   "metadata": {},
   "outputs": [
    {
     "name": "stderr",
     "output_type": "stream",
     "text": [
      "[2022-10-20 23:34:28,894: INFO: __init__] searching for COCO COLA images in google and downloading 10 images to scrapped_images\n",
      "[2022-10-20 23:34:28,896: INFO: runner] linux\n",
      "[2022-10-20 23:34:34,848: INFO: runner] Found: 100 search results. Extracting links from 0:100\n",
      "[2022-10-20 23:34:37,335: INFO: runner] Found: 100 search results. Extracting links from 1:100\n",
      "[2022-10-20 23:34:37,417: INFO: runner] extracted 1 image urls\n",
      "[2022-10-20 23:34:39,883: INFO: runner] Found: 100 search results. Extracting links from 2:100\n",
      "[2022-10-20 23:34:39,969: INFO: runner] extracted 2 image urls\n",
      "[2022-10-20 23:34:42,465: INFO: runner] Found: 100 search results. Extracting links from 3:100\n",
      "[2022-10-20 23:34:42,546: INFO: runner] extracted 3 image urls\n",
      "[2022-10-20 23:34:45,001: INFO: runner] Found: 100 search results. Extracting links from 4:100\n",
      "[2022-10-20 23:34:45,079: INFO: runner] extracted 4 image urls\n",
      "[2022-10-20 23:34:47,538: INFO: runner] Found: 100 search results. Extracting links from 5:100\n",
      "[2022-10-20 23:34:47,616: INFO: runner] extracted 5 image urls\n",
      "[2022-10-20 23:34:50,052: INFO: runner] Found: 100 search results. Extracting links from 6:100\n",
      "[2022-10-20 23:34:50,134: INFO: runner] extracted 6 image urls\n",
      "[2022-10-20 23:34:52,599: INFO: runner] Found: 100 search results. Extracting links from 7:100\n",
      "[2022-10-20 23:34:52,685: INFO: runner] extracted 7 image urls\n",
      "[2022-10-20 23:34:55,131: INFO: runner] Found: 100 search results. Extracting links from 8:100\n",
      "[2022-10-20 23:34:55,214: INFO: runner] extracted 8 image urls\n",
      "[2022-10-20 23:34:57,519: INFO: runner] Found: 100 search results. Extracting links from 9:100\n",
      "[2022-10-20 23:34:57,546: INFO: runner] extracted 9 image urls\n",
      "[2022-10-20 23:34:59,985: INFO: runner] Found: 100 search results. Extracting links from 10:100\n",
      "[2022-10-20 23:35:00,060: INFO: runner] extracted 10 image urls\n",
      "[2022-10-20 23:35:00,064: INFO: runner] Found: 100 search results. Extracting links from 10:100\n",
      "[2022-10-20 23:35:00,152: INFO: runner] Found: 10 image links from serach term COCO COLA\n"
     ]
    },
    {
     "name": "stdout",
     "output_type": "stream",
     "text": [
      "Found: 10 image links, done!\n"
     ]
    },
    {
     "name": "stderr",
     "output_type": "stream",
     "text": [
      "[2022-10-20 23:35:03,470: INFO: runner] Downloaded 0 images\n",
      "[2022-10-20 23:35:04,079: ERROR: runner] cannot write mode RGBA as JPEG\n",
      "[2022-10-20 23:35:04,690: INFO: runner] Downloaded 2 images\n",
      "[2022-10-20 23:35:05,086: INFO: runner] Downloaded 3 images\n",
      "[2022-10-20 23:35:05,806: INFO: runner] Downloaded 4 images\n",
      "[2022-10-20 23:35:06,106: INFO: runner] Downloaded 5 images\n",
      "[2022-10-20 23:35:06,471: INFO: runner] Downloaded 6 images\n",
      "[2022-10-20 23:35:07,125: INFO: runner] Downloaded 7 images\n",
      "[2022-10-20 23:35:07,480: ERROR: runner] cannot identify image file <_io.BytesIO object at 0x7f7291c24540>\n",
      "[2022-10-20 23:35:08,076: INFO: runner] Downloaded 9 images\n",
      "[2022-10-20 23:35:08,079: INFO: runner] Downloaded 8 images\n",
      "[2022-10-20 23:35:08,083: INFO: __init__] Downloaded 8 images from search term COCO COLA to scrapped_images\n"
     ]
    }
   ],
   "source": [
    "image_scrapper = google_scrapper(folder_path=\"scrapped_images\", search_term=\"COCO COLA\", number_images=10)"
   ]
  },
  {
   "cell_type": "code",
   "execution_count": null,
   "metadata": {},
   "outputs": [],
   "source": []
  }
 ],
 "metadata": {
  "kernelspec": {
   "display_name": "Python 3.9.0 ('scrap_test')",
   "language": "python",
   "name": "python3"
  },
  "language_info": {
   "codemirror_mode": {
    "name": "ipython",
    "version": 3
   },
   "file_extension": ".py",
   "mimetype": "text/x-python",
   "name": "python",
   "nbconvert_exporter": "python",
   "pygments_lexer": "ipython3",
   "version": "3.9.0"
  },
  "orig_nbformat": 4,
  "vscode": {
   "interpreter": {
    "hash": "0f94f814dff1122042e81e6f71cff35116ed0313545e145bfcf921a1845d925e"
   }
  }
 },
 "nbformat": 4,
 "nbformat_minor": 2
}
