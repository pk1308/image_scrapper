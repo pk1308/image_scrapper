{
 "cells": [
  {
   "cell_type": "code",
   "execution_count": 1,
   "metadata": {},
   "outputs": [
    {
     "name": "stderr",
     "output_type": "stream",
     "text": [
      "[2022-10-20 02:05:42,198: INFO: logger] ====== WebDriver manager ======\n",
      "[2022-10-20 02:05:42,343: INFO: logger] Get LATEST chromedriver version for google-chrome 106.0.5249\n",
      "[2022-10-20 02:05:42,868: INFO: logger] Driver [/home/pk/.wdm/drivers/chromedriver/linux64/106.0.5249/chromedriver] found in cache\n"
     ]
    }
   ],
   "source": [
    "from imagescrapper import google_scrapper"
   ]
  },
  {
   "cell_type": "code",
   "execution_count": 2,
   "metadata": {},
   "outputs": [
    {
     "name": "stderr",
     "output_type": "stream",
     "text": [
      "[2022-10-20 02:03:45,499: INFO: __init__] searching for dog images in google and downloading 10 images to scrapped_images\n",
      "[2022-10-20 02:03:51,197: INFO: runner] Found: 100 search results. Extracting links from 0:100\n",
      "[2022-10-20 02:03:53,663: INFO: runner] Found: 100 search results. Extracting links from 1:100\n",
      "[2022-10-20 02:03:53,744: INFO: runner] extracted 1 image urls\n",
      "[2022-10-20 02:03:56,174: INFO: runner] Found: 100 search results. Extracting links from 2:100\n",
      "[2022-10-20 02:03:56,248: INFO: runner] extracted 2 image urls\n",
      "[2022-10-20 02:03:58,699: INFO: runner] Found: 100 search results. Extracting links from 3:100\n",
      "[2022-10-20 02:03:58,783: INFO: runner] extracted 3 image urls\n",
      "[2022-10-20 02:04:01,247: INFO: runner] Found: 100 search results. Extracting links from 4:100\n",
      "[2022-10-20 02:04:01,330: INFO: runner] extracted 4 image urls\n",
      "[2022-10-20 02:04:03,796: INFO: runner] Found: 100 search results. Extracting links from 5:100\n",
      "[2022-10-20 02:04:03,877: INFO: runner] extracted 5 image urls\n",
      "[2022-10-20 02:04:06,357: INFO: runner] Found: 100 search results. Extracting links from 6:100\n",
      "[2022-10-20 02:04:06,439: INFO: runner] extracted 6 image urls\n",
      "[2022-10-20 02:04:08,907: INFO: runner] Found: 100 search results. Extracting links from 7:100\n",
      "[2022-10-20 02:04:08,992: INFO: runner] extracted 7 image urls\n",
      "[2022-10-20 02:04:11,424: INFO: runner] Found: 100 search results. Extracting links from 8:100\n",
      "[2022-10-20 02:04:11,525: INFO: runner] extracted 8 image urls\n",
      "[2022-10-20 02:04:13,967: INFO: runner] Found: 100 search results. Extracting links from 9:100\n",
      "[2022-10-20 02:04:14,049: INFO: runner] extracted 9 image urls\n",
      "[2022-10-20 02:04:16,491: INFO: runner] Found: 100 search results. Extracting links from 10:100\n",
      "[2022-10-20 02:04:16,563: INFO: runner] extracted 10 image urls\n",
      "[2022-10-20 02:04:16,565: INFO: runner] Found: 100 search results. Extracting links from 10:100\n",
      "[2022-10-20 02:04:16,567: INFO: runner] Found: 10 image links from serach term dog\n"
     ]
    },
    {
     "name": "stdout",
     "output_type": "stream",
     "text": [
      "Found: 10 image links, done!\n"
     ]
    },
    {
     "name": "stderr",
     "output_type": "stream",
     "text": [
      "[2022-10-20 02:04:17,264: INFO: runner] Downloaded 0 images\n",
      "[2022-10-20 02:04:17,855: INFO: runner] Downloaded 1 images\n",
      "[2022-10-20 02:04:17,944: ERROR: runner] HTTP Error 403: Forbidden\n",
      "[2022-10-20 02:04:18,678: INFO: runner] Downloaded 3 images\n",
      "[2022-10-20 02:04:19,446: INFO: runner] Downloaded 4 images\n",
      "[2022-10-20 02:04:19,941: INFO: runner] Downloaded 5 images\n",
      "[2022-10-20 02:04:22,271: INFO: runner] Downloaded 6 images\n",
      "[2022-10-20 02:04:22,346: ERROR: runner] HTTP Error 403: Forbidden\n",
      "[2022-10-20 02:04:23,031: INFO: runner] Downloaded 8 images\n",
      "[2022-10-20 02:04:23,458: INFO: runner] Downloaded 9 images\n",
      "[2022-10-20 02:04:23,459: INFO: runner] Downloaded 8 images\n",
      "[2022-10-20 02:04:23,461: INFO: __init__] Downloaded 8 images from search term dog to scrapped_images\n"
     ]
    }
   ],
   "source": [
    "\n",
    "image_scrapper = google_scrapper(folder_path=\"scrapped_images\", search_term=\"dog\", number_images=10)\n"
   ]
  }
 ],
 "metadata": {
  "kernelspec": {
   "display_name": "Python 3.8.0 ('image_scrapper')",
   "language": "python",
   "name": "python3"
  },
  "language_info": {
   "codemirror_mode": {
    "name": "ipython",
    "version": 3
   },
   "file_extension": ".py",
   "mimetype": "text/x-python",
   "name": "python",
   "nbconvert_exporter": "python",
   "pygments_lexer": "ipython3",
   "version": "3.8.0"
  },
  "orig_nbformat": 4,
  "vscode": {
   "interpreter": {
    "hash": "2006ebaf4c5cf931204e470aadd7f3039403939c8cb01fc5a02fb851550f6fbb"
   }
  }
 },
 "nbformat": 4,
 "nbformat_minor": 2
}
